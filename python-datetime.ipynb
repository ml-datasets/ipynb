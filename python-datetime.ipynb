{
 "cells": [
  {
   "cell_type": "markdown",
   "metadata": {},
   "source": [
    "The datetime module supplies classes for manipulating dates and times in both simple and complex ways. While date and time arithmetic is supported, the focus of the implementation is on efficient attribute extraction for output formatting and manipulation. For related functionality, see also the time and calendar modules."
   ]
  },
  {
   "cell_type": "code",
   "execution_count": 4,
   "metadata": {},
   "outputs": [
    {
     "name": "stdout",
     "output_type": "stream",
     "text": [
      "2019-08-27 17:58:03.826268\n"
     ]
    }
   ],
   "source": [
    "from datetime import datetime\n",
    "now = datetime.now()\n",
    "print(now)"
   ]
  },
  {
   "cell_type": "markdown",
   "metadata": {},
   "source": [
    "Code - %a : Weekday as locale’s abbreviated name.<br>\n",
    "Example:<br>\n",
    "Sun, Mon, …, Sat (en_US);<br>\n",
    "So, Mo, …, Sa (de_DE)"
   ]
  },
  {
   "cell_type": "code",
   "execution_count": 2,
   "metadata": {},
   "outputs": [
    {
     "name": "stdout",
     "output_type": "stream",
     "text": [
      "Weekday as locale’s abbreviated name: Tue\n"
     ]
    }
   ],
   "source": [
    "day = now.strftime(\"%a\") \n",
    "print(\"Weekday as locale’s abbreviated name:\", day)"
   ]
  },
  {
   "cell_type": "markdown",
   "metadata": {},
   "source": [
    "Code - %A : Weekday as locale’s full name<br>\n",
    "Example:<br>\n",
    "Sunday, Monday, …, Saturday (en_US);<br>\n",
    "Sonntag, Montag, …, Samstag (de_DE)<br>"
   ]
  },
  {
   "cell_type": "code",
   "execution_count": 3,
   "metadata": {},
   "outputs": [
    {
     "name": "stdout",
     "output_type": "stream",
     "text": [
      "Weekday as locale’s full name: Tuesday\n"
     ]
    }
   ],
   "source": [
    "day = now.strftime(\"%A\") \n",
    "print(\"Weekday as locale’s full name:\", day)"
   ]
  },
  {
   "cell_type": "markdown",
   "metadata": {},
   "source": [
    "Code - %w: Weekday as a decimal number, where 0 is Sunday and 6 is Saturday.<br>\n",
    "Example:<br>\n",
    "0, 1, …, 6"
   ]
  },
  {
   "cell_type": "code",
   "execution_count": 4,
   "metadata": {},
   "outputs": [
    {
     "name": "stdout",
     "output_type": "stream",
     "text": [
      "Weekday as a decimal number: 2\n"
     ]
    }
   ],
   "source": [
    "day = now.strftime(\"%w\") \n",
    "print(\"Weekday as a decimal number:\", day)"
   ]
  },
  {
   "cell_type": "markdown",
   "metadata": {},
   "source": [
    "Code - %d: Day of the month as a zero-padded decimal number.<br>\n",
    "Example:<br>\n",
    "01, 02, …, 31"
   ]
  },
  {
   "cell_type": "code",
   "execution_count": 5,
   "metadata": {},
   "outputs": [
    {
     "name": "stdout",
     "output_type": "stream",
     "text": [
      "Day of the month as a zero-padded decimal number: 27\n"
     ]
    }
   ],
   "source": [
    "day = now.strftime(\"%d\") \n",
    "print(\"Day of the month as a zero-padded decimal number:\", day)"
   ]
  },
  {
   "cell_type": "markdown",
   "metadata": {},
   "source": [
    "Code - %b: Month as locale’s abbreviated name.<br>\n",
    "Example:<br>\n",
    "Jan, Feb, …, Dec (en_US);<br>\n",
    "Jan, Feb, …, Dez (de_DE)"
   ]
  },
  {
   "cell_type": "code",
   "execution_count": 6,
   "metadata": {},
   "outputs": [
    {
     "name": "stdout",
     "output_type": "stream",
     "text": [
      "Month as locale's abbreviated name: Aug\n"
     ]
    }
   ],
   "source": [
    "day = now.strftime(\"%b\") \n",
    "print(\"Month as locale's abbreviated name:\", day)"
   ]
  },
  {
   "cell_type": "markdown",
   "metadata": {},
   "source": [
    "Code - %B: Month as locale’s full name.<br>\n",
    "Example: <br>\n",
    "January, February, …, December (en_US);<br>\n",
    "Januar, Februar, …, Dezember (de_DE)"
   ]
  },
  {
   "cell_type": "code",
   "execution_count": 7,
   "metadata": {},
   "outputs": [
    {
     "name": "stdout",
     "output_type": "stream",
     "text": [
      "Month as locale's full Name: August\n"
     ]
    }
   ],
   "source": [
    "day = now.strftime(\"%B\") \n",
    "print(\"Month as locale's full Name:\", day)"
   ]
  },
  {
   "cell_type": "markdown",
   "metadata": {},
   "source": [
    "Code - %m: Month as a zero-padded decimal number.<br>\n",
    "Example:<br>\n",
    "01, 02, …, 12"
   ]
  },
  {
   "cell_type": "code",
   "execution_count": 8,
   "metadata": {},
   "outputs": [
    {
     "name": "stdout",
     "output_type": "stream",
     "text": [
      "Month as a zero-padded decimal number: 08\n"
     ]
    }
   ],
   "source": [
    "day = now.strftime(\"%m\") \n",
    "print(\"Month as a zero-padded decimal number:\", day)"
   ]
  },
  {
   "cell_type": "markdown",
   "metadata": {},
   "source": [
    "Code - %y: Year without century as a zero-padded decimal number.<br>\n",
    "Example:<br>\n",
    "00, 01, …, 99"
   ]
  },
  {
   "cell_type": "code",
   "execution_count": 9,
   "metadata": {},
   "outputs": [
    {
     "name": "stdout",
     "output_type": "stream",
     "text": [
      "Year without century as a zero-padded decimal number: 19\n"
     ]
    }
   ],
   "source": [
    "day = now.strftime(\"%y\") \n",
    "print(\"Year without century as a zero-padded decimal number:\", day)"
   ]
  },
  {
   "cell_type": "markdown",
   "metadata": {},
   "source": [
    "Code - %Y: Year with century as a decimal number.<br>\n",
    "Example:<br>\n",
    "0001, 0002, …, 2013, 2014, …, 9998, 9999"
   ]
  },
  {
   "cell_type": "code",
   "execution_count": 10,
   "metadata": {},
   "outputs": [
    {
     "name": "stdout",
     "output_type": "stream",
     "text": [
      "Year with century as a decimal number: 2019\n"
     ]
    }
   ],
   "source": [
    "day = now.strftime(\"%Y\") \n",
    "print(\"Year with century as a decimal number:\", day)"
   ]
  },
  {
   "cell_type": "markdown",
   "metadata": {},
   "source": [
    "Code - %H: Hour (24-hour clock) as a zero-padded decimal number.<br>\n",
    "Example:<br>\n",
    "00, 01, …, 23"
   ]
  },
  {
   "cell_type": "code",
   "execution_count": 11,
   "metadata": {},
   "outputs": [
    {
     "name": "stdout",
     "output_type": "stream",
     "text": [
      "Hour as a zero-padded decimal number: 14\n"
     ]
    }
   ],
   "source": [
    "day = now.strftime(\"%H\") \n",
    "print(\"Hour as a zero-padded decimal number:\", day)"
   ]
  },
  {
   "cell_type": "markdown",
   "metadata": {},
   "source": [
    "Code - %I: Hour (12-hour clock) as a zero-padded decimal number.<br>\n",
    "Example:<br>\n",
    "01, 02, …, 12"
   ]
  },
  {
   "cell_type": "code",
   "execution_count": 13,
   "metadata": {},
   "outputs": [
    {
     "name": "stdout",
     "output_type": "stream",
     "text": [
      "Hour as a zero-paddes decimal number: 02\n"
     ]
    }
   ],
   "source": [
    "day = now.strftime(\"%I\") \n",
    "print(\"Hour as a zero-paddes decimal number:\", day)"
   ]
  },
  {
   "cell_type": "markdown",
   "metadata": {},
   "source": [
    "Code - %p: Locale’s equivalent of either AM or PM.<br>\n",
    "Example:<br>\n",
    "AM, PM (en_US);<br>\n",
    "am, pm (de_DE)"
   ]
  },
  {
   "cell_type": "code",
   "execution_count": 14,
   "metadata": {},
   "outputs": [
    {
     "name": "stdout",
     "output_type": "stream",
     "text": [
      "Locale's equivalent of either AM Or PM: PM\n"
     ]
    }
   ],
   "source": [
    "day = now.strftime(\"%p\") \n",
    "print(\"Locale's equivalent of either AM Or PM:\", day)"
   ]
  },
  {
   "cell_type": "markdown",
   "metadata": {},
   "source": [
    "Code - %M: Minute as a zero-padded decimal number.<br>\n",
    "Example:<br>\n",
    "00, 01, …, 59"
   ]
  },
  {
   "cell_type": "code",
   "execution_count": 15,
   "metadata": {},
   "outputs": [
    {
     "name": "stdout",
     "output_type": "stream",
     "text": [
      "Minute as a zero-padded decimal number: 00\n"
     ]
    }
   ],
   "source": [
    "day = now.strftime(\"%M\") \n",
    "print(\"Minute as a zero-padded decimal number:\", day)"
   ]
  },
  {
   "cell_type": "markdown",
   "metadata": {},
   "source": [
    "Code - %S: Second as a zero-padded decimal number.<br>\n",
    "Example:<br>\n",
    "00, 01, …, 59"
   ]
  },
  {
   "cell_type": "code",
   "execution_count": 16,
   "metadata": {},
   "outputs": [
    {
     "name": "stdout",
     "output_type": "stream",
     "text": [
      "Second as a zero-padded decimal number: 26\n"
     ]
    }
   ],
   "source": [
    "day = now.strftime(\"%S\") \n",
    "print(\"Second as a zero-padded decimal number:\", day)"
   ]
  },
  {
   "cell_type": "markdown",
   "metadata": {},
   "source": [
    "Code - %f: Microsecond as a decimal number, zero-padded on the left.<br>\n",
    "Example:<br>\n",
    "000000, 000001, …, 999999"
   ]
  },
  {
   "cell_type": "code",
   "execution_count": 18,
   "metadata": {},
   "outputs": [
    {
     "name": "stdout",
     "output_type": "stream",
     "text": [
      "Microsecond as a decimal number, zero-padded on the left: 813203\n"
     ]
    }
   ],
   "source": [
    "day = now.strftime(\"%f\") \n",
    "print(\"Microsecond as a decimal number, zero-padded on the left:\", day)"
   ]
  },
  {
   "cell_type": "markdown",
   "metadata": {},
   "source": [
    "Code - %z: UTC offset in the form ±HHMM[SS[.ffffff]] (empty string if the object is naive).<br>\n",
    "Example:<br>\n",
    "(empty), +0000, -0400, +1030, +063415, -030712.345216"
   ]
  },
  {
   "cell_type": "code",
   "execution_count": 11,
   "metadata": {},
   "outputs": [
    {
     "ename": "NameError",
     "evalue": "name 'TZ1' is not defined",
     "output_type": "error",
     "traceback": [
      "\u001b[1;31m---------------------------------------------------------------------------\u001b[0m",
      "\u001b[1;31mNameError\u001b[0m                                 Traceback (most recent call last)",
      "\u001b[1;32m<ipython-input-11-222cb5559633>\u001b[0m in \u001b[0;36m<module>\u001b[1;34m\u001b[0m\n\u001b[0;32m      1\u001b[0m \u001b[1;32mimport\u001b[0m \u001b[0mtime\u001b[0m\u001b[1;33m\u001b[0m\u001b[1;33m\u001b[0m\u001b[0m\n\u001b[1;32m----> 2\u001b[1;33m \u001b[0mt\u001b[0m \u001b[1;33m=\u001b[0m \u001b[0mtime\u001b[0m\u001b[1;33m(\u001b[0m\u001b[1;36m12\u001b[0m\u001b[1;33m,\u001b[0m \u001b[1;36m10\u001b[0m\u001b[1;33m,\u001b[0m \u001b[1;36m30\u001b[0m\u001b[1;33m,\u001b[0m \u001b[0mtzinfo\u001b[0m\u001b[1;33m=\u001b[0m\u001b[0mTZ1\u001b[0m\u001b[1;33m(\u001b[0m\u001b[1;33m)\u001b[0m\u001b[1;33m)\u001b[0m\u001b[1;33m\u001b[0m\u001b[1;33m\u001b[0m\u001b[0m\n\u001b[0m\u001b[0;32m      3\u001b[0m \u001b[0mday\u001b[0m \u001b[1;33m=\u001b[0m \u001b[0mt\u001b[0m\u001b[1;33m.\u001b[0m\u001b[0mstrftime\u001b[0m\u001b[1;33m(\u001b[0m\u001b[1;34m\"%z\"\u001b[0m\u001b[1;33m)\u001b[0m\u001b[1;33m\u001b[0m\u001b[1;33m\u001b[0m\u001b[0m\n\u001b[0;32m      4\u001b[0m \u001b[0mprint\u001b[0m\u001b[1;33m(\u001b[0m\u001b[1;34m\"UTC offset in the form ±HHMM[SS[.ffffff]]:\"\u001b[0m\u001b[1;33m,\u001b[0m \u001b[0mday\u001b[0m\u001b[1;33m)\u001b[0m\u001b[1;33m\u001b[0m\u001b[1;33m\u001b[0m\u001b[0m\n",
      "\u001b[1;31mNameError\u001b[0m: name 'TZ1' is not defined"
     ]
    }
   ],
   "source": [
    "import time\n",
    "t = time(12, 10, 30, tzinfo=TZ1())\n",
    "day = t.strftime(\"%z\") \n",
    "print(\"UTC offset in the form ±HHMM[SS[.ffffff]]:\", day)"
   ]
  },
  {
   "cell_type": "markdown",
   "metadata": {},
   "source": [
    "Code - %Z: Time zone name (empty string if the object is naive).<br>\n",
    "Example:<br>\n",
    "(empty), UTC, EST, CST"
   ]
  },
  {
   "cell_type": "code",
   "execution_count": 22,
   "metadata": {},
   "outputs": [
    {
     "name": "stdout",
     "output_type": "stream",
     "text": [
      "Time zone name: \n"
     ]
    }
   ],
   "source": [
    "day = now.strftime(\"%Z\") \n",
    "print(\"Time zone name:\", day)"
   ]
  },
  {
   "cell_type": "markdown",
   "metadata": {},
   "source": [
    "Code - %j: Day of the year as a zero-padded decimal number.<br>\n",
    "Example:<br>\n",
    "001, 002, …, 366"
   ]
  },
  {
   "cell_type": "code",
   "execution_count": 30,
   "metadata": {},
   "outputs": [
    {
     "name": "stdout",
     "output_type": "stream",
     "text": [
      "Day of the year as a zero-padded decimal number: 239\n"
     ]
    }
   ],
   "source": [
    "day = now.strftime(\"%j\") \n",
    "print(\"Day of the year as a zero-padded decimal number:\", day)"
   ]
  },
  {
   "cell_type": "markdown",
   "metadata": {},
   "source": [
    "Code - %U: Week number of the year (Sunday as the first day of the week) as a zero padded decimal number.<br> All days in a new year preceding the first Sunday are considered to be in week 0.<br>\n",
    "Example:<br>\n",
    "00, 01, …, 53"
   ]
  },
  {
   "cell_type": "code",
   "execution_count": 31,
   "metadata": {},
   "outputs": [
    {
     "name": "stdout",
     "output_type": "stream",
     "text": [
      "Week number of the year as a zero-padded decimal number: 34\n"
     ]
    }
   ],
   "source": [
    "day = now.strftime(\"%U\") \n",
    "print(\"Week number of the year as a zero-padded decimal number:\", day)"
   ]
  },
  {
   "cell_type": "markdown",
   "metadata": {},
   "source": [
    "Code - %W: Week number of the year (Monday as the first day of the week) as a decimal number.<br> All days in a new year preceding the first Monday are considered to be in week 0.<br>\n",
    "Example:<br>\n",
    "00, 01, …, 53    "
   ]
  },
  {
   "cell_type": "code",
   "execution_count": 32,
   "metadata": {},
   "outputs": [
    {
     "name": "stdout",
     "output_type": "stream",
     "text": [
      "Week number of the year as a zero-padded decimal number: 34\n"
     ]
    }
   ],
   "source": [
    "day = now.strftime(\"%W\") \n",
    "print(\"Week number of the year as a zero-padded decimal number:\", day)"
   ]
  },
  {
   "cell_type": "markdown",
   "metadata": {},
   "source": [
    "Code - %c: Locale’s appropriate date and time representation.<br>\n",
    "Example:<br>\n",
    "Tue Aug 16 21:30:00 1988 (en_US);<br>\n",
    "Di 16 Aug 21:30:00 1988 (de_DE)"
   ]
  },
  {
   "cell_type": "code",
   "execution_count": 33,
   "metadata": {},
   "outputs": [
    {
     "name": "stdout",
     "output_type": "stream",
     "text": [
      "Locale's appropriate date and time representation: Tue Aug 27 14:00:26 2019\n"
     ]
    }
   ],
   "source": [
    "day = now.strftime(\"%c\") \n",
    "print(\"Locale's appropriate date and time representation:\", day)"
   ]
  },
  {
   "cell_type": "markdown",
   "metadata": {},
   "source": [
    "Code - %x: Locale’s appropriate date representation.<br>\n",
    "Example:<br>\n",
    "08/16/88 (None);<br>\n",
    "08/16/1988 (en_US);<br>\n",
    "16.08.1988 (de_DE)"
   ]
  },
  {
   "cell_type": "code",
   "execution_count": 34,
   "metadata": {},
   "outputs": [
    {
     "name": "stdout",
     "output_type": "stream",
     "text": [
      "Locale's appropriate date representation: 08/27/19\n"
     ]
    }
   ],
   "source": [
    "day = now.strftime(\"%x\") \n",
    "print(\"Locale's appropriate date representation:\", day)"
   ]
  },
  {
   "cell_type": "markdown",
   "metadata": {},
   "source": [
    "Code - %X: Locale’s appropriate time representation.<br>\n",
    "Example:<br>\n",
    "21:30:00 (en_US);<br>\n",
    "21:30:00 (de_DE)"
   ]
  },
  {
   "cell_type": "code",
   "execution_count": 5,
   "metadata": {},
   "outputs": [
    {
     "name": "stdout",
     "output_type": "stream",
     "text": [
      "Locale's appropriate time representation: 17:58:03\n"
     ]
    }
   ],
   "source": [
    "day = now.strftime(\"%X\") \n",
    "print(\"Locale's appropriate time representation:\", day)"
   ]
  },
  {
   "cell_type": "markdown",
   "metadata": {},
   "source": [
    "Code - %%: A literal '%' character.<br>\n",
    "Example:<br>\n",
    "%"
   ]
  },
  {
   "cell_type": "code",
   "execution_count": 36,
   "metadata": {},
   "outputs": [
    {
     "name": "stdout",
     "output_type": "stream",
     "text": [
      "A literal '%' character: %\n"
     ]
    }
   ],
   "source": [
    "day = now.strftime(\"%%\") \n",
    "print(\"A literal '%' character:\", day)"
   ]
  },
  {
   "cell_type": "markdown",
   "metadata": {},
   "source": [
    "Several additional directives not required by the C89 standard are included for convenience.<br> These parameters all correspond to ISO 8601 date values. These may not be available on all platforms when used with the strftime() method.<br> The ISO 8601 year and ISO 8601 week directives are not interchangeable with the year and week number directives above.<br> Calling strptime() with incomplete or ambiguous ISO 8601 directives will raise a ValueError."
   ]
  },
  {
   "cell_type": "markdown",
   "metadata": {},
   "source": [
    "Code - %G: ISO 8601 year with century representing the year that contains the greater part of the ISO week (%V).<br>\n",
    "Example:<br>\n",
    "0001, 0002, …, 2013, 2014, …, 9998, 9999"
   ]
  },
  {
   "cell_type": "code",
   "execution_count": 37,
   "metadata": {},
   "outputs": [
    {
     "name": "stdout",
     "output_type": "stream",
     "text": [
      "ISO 8601 year with century representing the year that contains the greater part of the ISO week: 2019\n"
     ]
    }
   ],
   "source": [
    "day = now.strftime(\"%G\") \n",
    "print(\"ISO 8601 year with century representing the year that contains the greater part of the ISO week:\", day)"
   ]
  },
  {
   "cell_type": "markdown",
   "metadata": {},
   "source": [
    "Code - %u: ISO 8601 weekday as a decimal number where 1 is Monday.<br>\n",
    "Example:<br>\n",
    "1, 2, …, 7"
   ]
  },
  {
   "cell_type": "code",
   "execution_count": 6,
   "metadata": {},
   "outputs": [
    {
     "name": "stdout",
     "output_type": "stream",
     "text": [
      "ISO 8601 year with century representing the year that contains the greater part of the ISO week: 2\n"
     ]
    }
   ],
   "source": [
    "day = now.strftime(\"%u\") \n",
    "print(\"ISO 8601 year with century representing the year that contains the greater part of the ISO week:\", day)"
   ]
  },
  {
   "cell_type": "markdown",
   "metadata": {},
   "source": [
    "Code - %V: ISO 8601 week as a decimal number with Monday as the first day of the week. Week 01 is the week containing Jan 4.<br>\n",
    "Example:<br>\n",
    "01, 02, …, 53"
   ]
  },
  {
   "cell_type": "code",
   "execution_count": 9,
   "metadata": {},
   "outputs": [
    {
     "ename": "TypeError",
     "evalue": "strptime() takes exactly 2 arguments (1 given)",
     "output_type": "error",
     "traceback": [
      "\u001b[1;31m---------------------------------------------------------------------------\u001b[0m",
      "\u001b[1;31mTypeError\u001b[0m                                 Traceback (most recent call last)",
      "\u001b[1;32m<ipython-input-9-04914bb59b62>\u001b[0m in \u001b[0;36m<module>\u001b[1;34m\u001b[0m\n\u001b[1;32m----> 1\u001b[1;33m \u001b[0mday\u001b[0m \u001b[1;33m=\u001b[0m \u001b[0mdatetime\u001b[0m\u001b[1;33m.\u001b[0m\u001b[0mstrptime\u001b[0m\u001b[1;33m(\u001b[0m\u001b[1;34m\"%V\"\u001b[0m\u001b[1;33m)\u001b[0m\u001b[1;33m\u001b[0m\u001b[1;33m\u001b[0m\u001b[0m\n\u001b[0m\u001b[0;32m      2\u001b[0m \u001b[0mprint\u001b[0m\u001b[1;33m(\u001b[0m\u001b[1;34m\"ISO 8601 week as a decimal number with Monday as the first day of the week.:\"\u001b[0m\u001b[1;33m,\u001b[0m \u001b[0mday\u001b[0m\u001b[1;33m)\u001b[0m\u001b[1;33m\u001b[0m\u001b[1;33m\u001b[0m\u001b[0m\n",
      "\u001b[1;31mTypeError\u001b[0m: strptime() takes exactly 2 arguments (1 given)"
     ]
    }
   ],
   "source": [
    "day = datetime.strptime(\"%V\")\n",
    "print(\"ISO 8601 week as a decimal number with Monday as the first day of the week.:\", day)"
   ]
  },
  {
   "cell_type": "code",
   "execution_count": null,
   "metadata": {},
   "outputs": [],
   "source": []
  }
 ],
 "metadata": {
  "kernelspec": {
   "display_name": "Python 3",
   "language": "python",
   "name": "python3"
  },
  "language_info": {
   "codemirror_mode": {
    "name": "ipython",
    "version": 3
   },
   "file_extension": ".py",
   "mimetype": "text/x-python",
   "name": "python",
   "nbconvert_exporter": "python",
   "pygments_lexer": "ipython3",
   "version": "3.7.1"
  }
 },
 "nbformat": 4,
 "nbformat_minor": 2
}
